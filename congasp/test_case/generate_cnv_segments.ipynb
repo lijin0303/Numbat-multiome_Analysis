{
 "cells": [
  {
   "cell_type": "markdown",
   "metadata": {
    "vscode": {
     "languageId": "plaintext"
    }
   },
   "source": [
    "# Generate CNV Segments File\n",
    "This notebook creates a formatted CNV segments file from CONGAS results and bin coordinates.\n"
   ]
  },
  {
   "cell_type": "code",
   "execution_count": 2,
   "metadata": {},
   "outputs": [],
   "source": [
    "import numpy as np\n",
    "import pandas as pd\n",
    "import re\n"
   ]
  },
  {
   "cell_type": "code",
   "execution_count": 3,
   "metadata": {},
   "outputs": [],
   "source": [
    "def parse_coordinates(bin_name):\n",
    "    \"\"\"Parse bin name like 'chr7:100000001-100200000' into seqnames, start, end\"\"\"\n",
    "    match = re.match(r'(.+):(\\d+)-(\\d+)', bin_name)\n",
    "    if match:\n",
    "        seqnames = match.group(1)\n",
    "        start = int(match.group(2))\n",
    "        end = int(match.group(3))\n",
    "        return seqnames, start, end\n",
    "    else:\n",
    "        raise ValueError(f\"Cannot parse bin name: {bin_name}\")\n"
   ]
  },
  {
   "cell_type": "code",
   "execution_count": 4,
   "metadata": {},
   "outputs": [
    {
     "name": "stdout",
     "output_type": "stream",
     "text": [
      "Loaded CONGAS results: 3 clusters, 791 segments\n"
     ]
    }
   ],
   "source": [
    "# Load CONGAS results\n",
    "results_path = './congas_results.npy'\n",
    "params = np.load(results_path, allow_pickle=True).item()\n",
    "CNA = params['CNA']  # (K, segments)\n",
    "K, segments = CNA.shape\n",
    "print(f\"Loaded CONGAS results: {K} clusters, {segments} segments\")\n"
   ]
  },
  {
   "cell_type": "code",
   "execution_count": 5,
   "metadata": {},
   "outputs": [
    {
     "name": "stdout",
     "output_type": "stream",
     "text": [
      "Loaded 791 bin segments\n",
      "First few bins:\n",
      "['chr7:100000001-100200000', 'chr7:1000001-1200000', 'chr7:100200001-100400000', 'chr7:100400001-100600000', 'chr7:100600001-100800000']\n"
     ]
    }
   ],
   "source": [
    "# Load bin segments\n",
    "bin_segments = pd.read_csv('./bin_segments.csv')\n",
    "bin_names = bin_segments['bin'].tolist()\n",
    "print(f\"Loaded {len(bin_names)} bin segments\")\n",
    "print(\"First few bins:\")\n",
    "print(bin_names[:5])\n"
   ]
  },
  {
   "cell_type": "code",
   "execution_count": 6,
   "metadata": {},
   "outputs": [
    {
     "name": "stdout",
     "output_type": "stream",
     "text": [
      "Found 1729 CNV segments\n"
     ]
    }
   ],
   "source": [
    "# Create CNV segments output\n",
    "cnv_segments = []\n",
    "\n",
    "for cluster_idx in range(K):\n",
    "    cluster_cn = CNA[cluster_idx, :]\n",
    "    \n",
    "    for seg_idx, bin_name in enumerate(bin_names):\n",
    "        cn = cluster_cn[seg_idx]\n",
    "        \n",
    "        # Only include segments with copy number changes\n",
    "        if cn != 2:\n",
    "            # Parse coordinates\n",
    "            seqnames, start, end = parse_coordinates(bin_name)\n",
    "            \n",
    "            # Determine CNV type\n",
    "            if cn > 2:\n",
    "                cnv_type = \"amp\"\n",
    "            elif cn < 2:\n",
    "                cnv_type = \"del\"\n",
    "            else:\n",
    "                continue  # Skip diploid segments\n",
    "            \n",
    "            cnv_segments.append({\n",
    "                'seqnames': seqnames,\n",
    "                'start': start,\n",
    "                'end': end,\n",
    "                'cnv': cnv_type,\n",
    "                'cluster': cluster_idx,\n",
    "                'copy_number': cn\n",
    "            })\n",
    "\n",
    "print(f\"Found {len(cnv_segments)} CNV segments\")\n"
   ]
  },
  {
   "cell_type": "code",
   "execution_count": 7,
   "metadata": {},
   "outputs": [
    {
     "name": "stdout",
     "output_type": "stream",
     "text": [
      "Generated CNV segments file with 1729 entries\n",
      "Number of clusters: 3\n",
      "CNV types found: {'del': 1291, 'amp': 438}\n",
      "CNV by cluster:\n",
      "  Cluster 0: 573 CNVs\n",
      "  Cluster 1: 565 CNVs\n",
      "  Cluster 2: 591 CNVs\n",
      "\n",
      "First few entries:\n"
     ]
    },
    {
     "data": {
      "text/html": [
       "<div>\n",
       "<style scoped>\n",
       "    .dataframe tbody tr th:only-of-type {\n",
       "        vertical-align: middle;\n",
       "    }\n",
       "\n",
       "    .dataframe tbody tr th {\n",
       "        vertical-align: top;\n",
       "    }\n",
       "\n",
       "    .dataframe thead th {\n",
       "        text-align: right;\n",
       "    }\n",
       "</style>\n",
       "<table border=\"1\" class=\"dataframe\">\n",
       "  <thead>\n",
       "    <tr style=\"text-align: right;\">\n",
       "      <th></th>\n",
       "      <th>seqnames</th>\n",
       "      <th>start</th>\n",
       "      <th>end</th>\n",
       "      <th>cnv</th>\n",
       "      <th>cluster</th>\n",
       "    </tr>\n",
       "  </thead>\n",
       "  <tbody>\n",
       "    <tr>\n",
       "      <th>845</th>\n",
       "      <td>chr7</td>\n",
       "      <td>1</td>\n",
       "      <td>200000</td>\n",
       "      <td>del</td>\n",
       "      <td>1</td>\n",
       "    </tr>\n",
       "    <tr>\n",
       "      <th>1411</th>\n",
       "      <td>chr7</td>\n",
       "      <td>1</td>\n",
       "      <td>200000</td>\n",
       "      <td>amp</td>\n",
       "      <td>2</td>\n",
       "    </tr>\n",
       "    <tr>\n",
       "      <th>693</th>\n",
       "      <td>chr7</td>\n",
       "      <td>200001</td>\n",
       "      <td>400000</td>\n",
       "      <td>del</td>\n",
       "      <td>1</td>\n",
       "    </tr>\n",
       "    <tr>\n",
       "      <th>1271</th>\n",
       "      <td>chr7</td>\n",
       "      <td>200001</td>\n",
       "      <td>400000</td>\n",
       "      <td>del</td>\n",
       "      <td>2</td>\n",
       "    </tr>\n",
       "    <tr>\n",
       "      <th>741</th>\n",
       "      <td>chr7</td>\n",
       "      <td>400001</td>\n",
       "      <td>600000</td>\n",
       "      <td>del</td>\n",
       "      <td>1</td>\n",
       "    </tr>\n",
       "    <tr>\n",
       "      <th>769</th>\n",
       "      <td>chr7</td>\n",
       "      <td>600001</td>\n",
       "      <td>800000</td>\n",
       "      <td>del</td>\n",
       "      <td>1</td>\n",
       "    </tr>\n",
       "    <tr>\n",
       "      <th>804</th>\n",
       "      <td>chr7</td>\n",
       "      <td>800001</td>\n",
       "      <td>1000000</td>\n",
       "      <td>del</td>\n",
       "      <td>1</td>\n",
       "    </tr>\n",
       "    <tr>\n",
       "      <th>1379</th>\n",
       "      <td>chr7</td>\n",
       "      <td>800001</td>\n",
       "      <td>1000000</td>\n",
       "      <td>del</td>\n",
       "      <td>2</td>\n",
       "    </tr>\n",
       "    <tr>\n",
       "      <th>0</th>\n",
       "      <td>chr7</td>\n",
       "      <td>1000001</td>\n",
       "      <td>1200000</td>\n",
       "      <td>del</td>\n",
       "      <td>0</td>\n",
       "    </tr>\n",
       "    <tr>\n",
       "      <th>574</th>\n",
       "      <td>chr7</td>\n",
       "      <td>1000001</td>\n",
       "      <td>1200000</td>\n",
       "      <td>amp</td>\n",
       "      <td>1</td>\n",
       "    </tr>\n",
       "  </tbody>\n",
       "</table>\n",
       "</div>"
      ],
      "text/plain": [
       "     seqnames    start      end  cnv  cluster\n",
       "845      chr7        1   200000  del        1\n",
       "1411     chr7        1   200000  amp        2\n",
       "693      chr7   200001   400000  del        1\n",
       "1271     chr7   200001   400000  del        2\n",
       "741      chr7   400001   600000  del        1\n",
       "769      chr7   600001   800000  del        1\n",
       "804      chr7   800001  1000000  del        1\n",
       "1379     chr7   800001  1000000  del        2\n",
       "0        chr7  1000001  1200000  del        0\n",
       "574      chr7  1000001  1200000  amp        1"
      ]
     },
     "metadata": {},
     "output_type": "display_data"
    }
   ],
   "source": [
    "# Create DataFrame and process\n",
    "cnv_df = pd.DataFrame(cnv_segments)\n",
    "\n",
    "if len(cnv_df) > 0:\n",
    "    # Sort by chromosome and position\n",
    "    cnv_df = cnv_df.sort_values(['seqnames', 'start', 'cluster'])\n",
    "    \n",
    "    print(f\"Generated CNV segments file with {len(cnv_df)} entries\")\n",
    "    print(f\"Number of clusters: {K}\")\n",
    "    print(f\"CNV types found: {cnv_df['cnv'].value_counts().to_dict()}\")\n",
    "    print(f\"CNV by cluster:\")\n",
    "    for cluster in range(K):\n",
    "        cluster_cnvs = cnv_df[cnv_df['cluster'] == cluster]\n",
    "        if len(cluster_cnvs) > 0:\n",
    "            print(f\"  Cluster {cluster}: {len(cluster_cnvs)} CNVs\")\n",
    "    \n",
    "    print(\"\\nFirst few entries:\")\n",
    "    display(cnv_df[['seqnames', 'start', 'end', 'cnv', 'cluster']].head(10))\n",
    "    \n",
    "else:\n",
    "    print(\"No copy number variations found!\")\n"
   ]
  },
  {
   "cell_type": "code",
   "execution_count": 8,
   "metadata": {},
   "outputs": [
    {
     "name": "stdout",
     "output_type": "stream",
     "text": [
      "Files saved:\n",
      "- cnv_segments_formatted.tsv (main output)\n",
      "- cnv_segments_detailed.tsv (with copy numbers)\n"
     ]
    }
   ],
   "source": [
    "# Save files\n",
    "if len(cnv_df) > 0:\n",
    "    # Save the main output file (seqnames start end cnv cluster)\n",
    "    cnv_df[['seqnames', 'start', 'end', 'cnv', 'cluster']].to_csv(\n",
    "        './cnv_segments_formatted.tsv', \n",
    "        sep='\\t', \n",
    "        index=False\n",
    "    )\n",
    "    \n",
    "    # Save extended version with copy numbers\n",
    "    cnv_df.to_csv('./cnv_segments_detailed.tsv', sep='\\t', index=False)\n",
    "    \n",
    "    print(\"Files saved:\")\n",
    "    print(\"- cnv_segments_formatted.tsv (main output)\")\n",
    "    print(\"- cnv_segments_detailed.tsv (with copy numbers)\")\n"
   ]
  },
  {
   "cell_type": "code",
   "execution_count": null,
   "metadata": {},
   "outputs": [],
   "source": []
  }
 ],
 "metadata": {
  "kernelspec": {
   "display_name": "Python 3",
   "language": "python",
   "name": "python3"
  },
  "language_info": {
   "codemirror_mode": {
    "name": "ipython",
    "version": 3
   },
   "file_extension": ".py",
   "mimetype": "text/x-python",
   "name": "python",
   "nbconvert_exporter": "python",
   "pygments_lexer": "ipython3",
   "version": "3.8.20"
  }
 },
 "nbformat": 4,
 "nbformat_minor": 2
}
