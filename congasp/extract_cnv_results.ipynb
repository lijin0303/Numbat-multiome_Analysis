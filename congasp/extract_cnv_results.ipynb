{
 "cells": [
  {
   "cell_type": "markdown",
   "metadata": {},
   "source": [
    "# Extract and Analyze Copy Number Changes from CONGASp Results\n",
    "This notebook loads CONGASp model results, extracts regions with copy number changes, and summarizes/visualizes them."
   ]
  },
  {
   "cell_type": "code",
   "execution_count": null,
   "metadata": {},
   "outputs": [],
   "source": [
    "import sys\n",
    "sys.path.append('/app')\n",
    "import numpy as np\n",
    "import pandas as pd\n",
    "import torch\n",
    "import matplotlib.pyplot as plt"
   ]
  },
  {
   "cell_type": "markdown",
   "metadata": {},
   "source": [
    "## Load Results"
   ]
  },
  {
   "cell_type": "code",
   "execution_count": null,
   "metadata": {},
   "outputs": [],
   "source": [
    "# Adjust the path as needed\n",
    "results_path = './congas_results.npy'  # or wherever your results are saved\n",
    "bin_counts_path = './bin_counts_for_python.csv'\n",
    "\n",
    "params = np.load(results_path, allow_pickle=True).item()\n",
    "bin_counts = pd.read_csv(bin_counts_path, index_col=0)\n",
    "segments = bin_counts.shape[0]"
   ]
  },
  {
   "cell_type": "markdown",
   "metadata": {},
   "source": [
    "## Extract Copy Number and Assignments"
   ]
  },
  {
   "cell_type": "code",
   "execution_count": null,
   "metadata": {},
   "outputs": [],
   "source": [
    "cnv_probs = params['CNV_probabilities']  # (K, segments, hidden_dim)\n",
    "CNA = params['CNA']  # (K, segments)\n",
    "assignment_probs_rna = params.get('assignment_probs_rna', None)\n",
    "assignment_probs_atac = params.get('assignment_probs_atac', None)"
   ]
  },
  {
   "cell_type": "markdown",
   "metadata": {},
   "source": [
    "## Get Most Likely Cluster Assignments"
   ]
  },
  {
   "cell_type": "code",
   "execution_count": null,
   "metadata": {},
   "outputs": [],
   "source": [
    "if assignment_probs_rna is not None:\n",
    "    cluster_assignments_rna = np.argmax(assignment_probs_rna, axis=0)\n",
    "else:\n",
    "    cluster_assignments_rna = None\n",
    "if assignment_probs_atac is not None:\n",
    "    cluster_assignments_atac = np.argmax(assignment_probs_atac, axis=0)\n",
    "else:\n",
    "    cluster_assignments_atac = None"
   ]
  },
  {
   "cell_type": "markdown",
   "metadata": {},
   "source": [
    "## Identify Segments with Copy Number Changes"
   ]
  },
  {
   "cell_type": "code",
   "execution_count": null,
   "metadata": {},
   "outputs": [],
   "source": [
    "K = CNA.shape[0]\n",
    "segments_with_cnv = []\n",
    "for seg_idx in range(segments):\n",
    "    for cluster_idx in range(K):\n",
    "        cn = CNA[cluster_idx, seg_idx]\n",
    "        if cn != 2:  # Not diploid\n",
    "            segments_with_cnv.append({\n",
    "                'segment_idx': seg_idx,\n",
    "                'cluster': cluster_idx,\n",
    "                'copy_number': cn,\n",
    "                'segment_name': bin_counts.index[seg_idx]\n",
    "            })\n",
    "\n",
    "cnv_df = pd.DataFrame(segments_with_cnv)\n",
    "print(\"Segments with copy number changes:\")\n",
    "print(cnv_df)"
   ]
  },
  {
   "cell_type": "markdown",
   "metadata": {},
   "source": [
    "## Analyze Results by Cluster"
   ]
  },
  {
   "cell_type": "code",
   "execution_count": null,
   "metadata": {},
   "outputs": [],
   "source": [
    "for cluster_idx in range(K):\n",
    "    cluster_cn = CNA[cluster_idx, :]\n",
    "    print(f\"\\nCluster {cluster_idx}:\")\n",
    "    if cluster_assignments_rna is not None:\n",
    "        print(f\"Number of RNA cells: {np.sum(cluster_assignments_rna == cluster_idx)}\")\n",
    "    if cluster_assignments_atac is not None:\n",
    "        print(f\"Number of ATAC cells: {np.sum(cluster_assignments_atac == cluster_idx)}\")\n",
    "    cn_changes = cluster_cn != 2\n",
    "    if np.any(cn_changes):\n",
    "        print(f\"Segments with CN changes: {np.sum(cn_changes)}\")\n",
    "        for seg_idx in np.where(cn_changes)[0]:\n",
    "            cn = cluster_cn[seg_idx]\n",
    "            seg_name = bin_counts.index[seg_idx]\n",
    "            print(f\"  {seg_name}: CN = {cn}\")\n",
    "    else:\n",
    "        print(\"No CN changes detected (all segments diploid)\")"
   ]
  },
  {
   "cell_type": "markdown",
   "metadata": {},
   "source": [
    "## Save Results"
   ]
  },
  {
   "cell_type": "code",
   "execution_count": null,
   "metadata": {},
   "outputs": [],
   "source": [
    "results = {\n",
    "    'copy_numbers': CNA,\n",
    "    'cluster_assignments_rna': cluster_assignments_rna,\n",
    "    'cluster_assignments_atac': cluster_assignments_atac,\n",
    "    'cnv_segments': cnv_df,\n",
    "    'assignment_probs_rna': assignment_probs_rna,\n",
    "    'assignment_probs_atac': assignment_probs_atac\n",
    "}\n",
    "np.save('./detailed_congas_results.npy', results)\n",
    "cnv_df.to_csv('./cnv_segments.csv', index=False)"
   ]
  },
  {
   "cell_type": "markdown",
   "metadata": {},
   "source": [
    "## Visualize Copy Number Changes"
   ]
  },
  {
   "cell_type": "code",
   "execution_count": null,
   "metadata": {},
   "outputs": [],
   "source": [
    "plt.figure(figsize=(12, 6))\n",
    "plt.imshow(CNA, aspect='auto', cmap='RdYlBu_r')\n",
    "plt.colorbar(label='Copy Number')\n",
    "plt.xlabel('Segments')\n",
    "plt.ylabel('Clusters')\n",
    "plt.title('Copy Number Changes by Cluster and Segment')\n",
    "plt.show()"
   ]
  }
 ],
 "metadata": {
  "kernelspec": {
   "display_name": "Python 3",
   "language": "python",
   "name": "python3"
  },
  "language_info": {
   "name": "python",
   "version": "3.x"
  }
 },
 "nbformat": 4,
 "nbformat_minor": 2
}
